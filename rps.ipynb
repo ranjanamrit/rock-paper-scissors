{
 "metadata": {
  "language_info": {
   "codemirror_mode": {
    "name": "ipython",
    "version": 3
   },
   "file_extension": ".py",
   "mimetype": "text/x-python",
   "name": "python",
   "nbconvert_exporter": "python",
   "pygments_lexer": "ipython3",
   "version": "3.6.9-final"
  },
  "orig_nbformat": 2,
  "kernelspec": {
   "name": "python36964bit15766968590a48bca1d754867db69d2e",
   "display_name": "Python 3.6.9 64-bit"
  }
 },
 "nbformat": 4,
 "nbformat_minor": 2,
 "cells": [
  {
   "cell_type": "code",
   "execution_count": 2,
   "metadata": {},
   "outputs": [
    {
     "output_type": "error",
     "ename": "SyntaxError",
     "evalue": "invalid syntax (<ipython-input-2-829348aaae42>, line 10)",
     "traceback": [
      "\u001b[0;36m  File \u001b[0;32m\"<ipython-input-2-829348aaae42>\"\u001b[0;36m, line \u001b[0;32m10\u001b[0m\n\u001b[0;31m    if computer == \"Paper\"\u001b[0m\n\u001b[0m                          ^\u001b[0m\n\u001b[0;31mSyntaxError\u001b[0m\u001b[0;31m:\u001b[0m invalid syntax\n"
     ]
    }
   ],
   "source": [
    "from random import randint\n",
    "t=[\"Rock\", \"Paper\", \"Scissors\"]\n",
    "computer=t[randint(0,2)]\n",
    "player = False\n",
    "while player == False:\n",
    "    player = input(\"Rock, Paper, Scissors?\")\n",
    "    if player==computer:\n",
    "        print(\"Tie\")\n",
    "    elif player== \"Rock\":\n",
    "        if computer == \"Paper\":\n",
    "            print(\"You Lose\", computer ,\"covers\", player)\n",
    "        else:\n",
    "            print(\"You Win\", player,\"breaks\",computer)\n",
    "    elif player== \"Paper\":\n",
    "        if computer == \"Scissors\":\n",
    "            print(\"You Lose\", computer ,\"cuts\", player)\n",
    "        else:\n",
    "            print(\"You Win\", player,\"covers\",computer)\n",
    "    elif player== \"Scissors\":\n",
    "        if computer == \"Rock\":\n",
    "            print(\"You Lose\", computer ,\"smashes\", player)\n",
    "        else:\n",
    "            print(\"You Win\", player,\"cut\",computer)\n",
    "    else:\n",
    "        print(\"That's not valid. Please check your spelling and try again\")\n",
    "    player = False\n",
    "    computer = t[randint(0,2)]\n",
    "    \n"
   ]
  }
 ]
}